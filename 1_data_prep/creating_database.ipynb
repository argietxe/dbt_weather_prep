{
 "cells": [
  {
   "cell_type": "code",
   "execution_count": 23,
   "id": "ea9e9fe3-54bb-4410-b77a-68065f32d414",
   "metadata": {},
   "outputs": [],
   "source": [
    "import pandas as pd\n",
    "import json\n",
    "from dotenv import load_dotenv\n",
    "from sqlalchemy import create_engine, types\n",
    "from sqlalchemy.dialects.postgresql import JSON as postgres_json\n",
    "from sqlalchemy_utils import database_exists, create_database\n",
    "from sqlalchemy import text"
   ]
  },
  {
   "cell_type": "code",
   "execution_count": 4,
   "id": "deb3beef-56e8-42ea-b193-9f29b5e74341",
   "metadata": {},
   "outputs": [
    {
     "data": {
      "text/plain": [
       "True"
      ]
     },
     "execution_count": 4,
     "metadata": {},
     "output_type": "execute_result"
    }
   ],
   "source": [
    "import os\n",
    "from dotenv import load_dotenv\n",
    "\n",
    "load_dotenv()"
   ]
  },
  {
   "cell_type": "code",
   "execution_count": 6,
   "id": "b6a62186-2eb3-4fee-b5f8-97800c0e0a04",
   "metadata": {},
   "outputs": [],
   "source": [
    "username = os.getenv('POSTGRES_USER')\n",
    "password = os.getenv('POSTGRES_PW')\n",
    "host = os.getenv('POSTGRES_HOST')\n",
    "port = os.getenv('POSTGRES_PORT')\n",
    "database = os.getenv('DB_CLIMATE')"
   ]
  },
  {
   "cell_type": "code",
   "execution_count": 9,
   "id": "ab084abe-9995-406a-bdec-e8d0cb014029",
   "metadata": {},
   "outputs": [],
   "source": [
    "url = f'postgresql://{username}:{password}@{host}:{port}/{database}'\n",
    "engine = create_engine(url)"
   ]
  },
  {
   "cell_type": "code",
   "execution_count": 11,
   "id": "3b21adcb-452c-4e40-8c2e-e48dc32d3952",
   "metadata": {},
   "outputs": [],
   "source": [
    "#creating a database with sqlalchemy\n",
    "\n",
    "from sqlalchemy_utils import database_exists, create_database\n",
    "\n",
    "if not database_exists(engine.url):\n",
    "    create_database(engine.url)"
   ]
  },
  {
   "cell_type": "code",
   "execution_count": 16,
   "id": "65515081-2ed6-4305-9a02-32c07421ce04",
   "metadata": {},
   "outputs": [],
   "source": [
    "with engine.begin() as conn:\n",
    "    conn.execute(text(\"\"\"\n",
    "        CREATE TABLE weather_dict(\n",
    "            id SERIAL primary key,\n",
    "            extracted_at VARCHAR (255), \n",
    "            extracted_data VARCHAR (255))\"\"\"))"
   ]
  },
  {
   "cell_type": "code",
   "execution_count": 29,
   "id": "9dda18ba-e4b4-4900-af08-dc0d68f18b36",
   "metadata": {},
   "outputs": [],
   "source": [
    "with engine.begin() as conn:\n",
    "    conn.execute(text(\"DROP TABLE IF EXISTS weather_dict;\"))"
   ]
  },
  {
   "cell_type": "code",
   "execution_count": 20,
   "id": "961825b8-913c-440b-ae21-b2014e8d5fbc",
   "metadata": {},
   "outputs": [
    {
     "data": {
      "text/plain": [
       "[]"
      ]
     },
     "execution_count": 20,
     "metadata": {},
     "output_type": "execute_result"
    }
   ],
   "source": [
    "with engine.begin() as conn: # Done with echo=False\n",
    "    result = conn.execute(text(\"SELECT * FROM weather_dict;\"))\n",
    "    data_weather = result.all()\n",
    "data_weather"
   ]
  },
  {
   "cell_type": "code",
   "execution_count": null,
   "id": "ee0ac9c1-44a6-4e2a-95ad-75be80bc2d7c",
   "metadata": {},
   "outputs": [],
   "source": []
  }
 ],
 "metadata": {
  "kernelspec": {
   "display_name": "Python 3 (ipykernel)",
   "language": "python",
   "name": "python3"
  },
  "language_info": {
   "codemirror_mode": {
    "name": "ipython",
    "version": 3
   },
   "file_extension": ".py",
   "mimetype": "text/x-python",
   "name": "python",
   "nbconvert_exporter": "python",
   "pygments_lexer": "ipython3",
   "version": "3.11.5"
  }
 },
 "nbformat": 4,
 "nbformat_minor": 5
}
