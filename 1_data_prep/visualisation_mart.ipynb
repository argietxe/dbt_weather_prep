{
 "cells": [
  {
   "cell_type": "code",
   "execution_count": 2,
   "id": "68c1c842-4f7a-449c-94e4-971bfe30135a",
   "metadata": {},
   "outputs": [],
   "source": [
    "import pandas as pd\n",
    "from matplotlib import pyplot as plt\n",
    "import seaborn as sns"
   ]
  },
  {
   "cell_type": "markdown",
   "id": "51b97f41-e361-4ad1-9191-055a5b78ec73",
   "metadata": {},
   "source": [
    "# Reading the csv file for sunlight_over_year"
   ]
  },
  {
   "cell_type": "code",
   "execution_count": 3,
   "id": "c555be19-8d08-4545-8649-0e3afa590145",
   "metadata": {},
   "outputs": [
    {
     "name": "stderr",
     "output_type": "stream",
     "text": [
      "/var/folders/m1/dk0h8kz11p9g8_szsqwqhdnc0000gn/T/ipykernel_12225/4209087351.py:1: UserWarning: Could not infer format, so each element will be parsed individually, falling back to `dateutil`. To ensure parsing is consistent and as-expected, please specify a format.\n",
      "  sunlight_year = pd.read_csv('./data_mart/sunlight_over_year.csv', parse_dates=['date','sunlight'])\n"
     ]
    },
    {
     "data": {
      "text/html": [
       "<div>\n",
       "<style scoped>\n",
       "    .dataframe tbody tr th:only-of-type {\n",
       "        vertical-align: middle;\n",
       "    }\n",
       "\n",
       "    .dataframe tbody tr th {\n",
       "        vertical-align: top;\n",
       "    }\n",
       "\n",
       "    .dataframe thead th {\n",
       "        text-align: right;\n",
       "    }\n",
       "</style>\n",
       "<table border=\"1\" class=\"dataframe\">\n",
       "  <thead>\n",
       "    <tr style=\"text-align: right;\">\n",
       "      <th></th>\n",
       "      <th>city</th>\n",
       "      <th>date</th>\n",
       "      <th>sunlight</th>\n",
       "    </tr>\n",
       "  </thead>\n",
       "  <tbody>\n",
       "    <tr>\n",
       "      <th>0</th>\n",
       "      <td>Auckland</td>\n",
       "      <td>2023-04-11</td>\n",
       "      <td>2024-04-16 11:19:00</td>\n",
       "    </tr>\n",
       "    <tr>\n",
       "      <th>1</th>\n",
       "      <td>Auckland</td>\n",
       "      <td>2023-04-12</td>\n",
       "      <td>2024-04-16 11:17:00</td>\n",
       "    </tr>\n",
       "    <tr>\n",
       "      <th>2</th>\n",
       "      <td>Auckland</td>\n",
       "      <td>2023-04-13</td>\n",
       "      <td>2024-04-16 11:15:00</td>\n",
       "    </tr>\n",
       "    <tr>\n",
       "      <th>3</th>\n",
       "      <td>Auckland</td>\n",
       "      <td>2023-04-14</td>\n",
       "      <td>2024-04-16 11:12:00</td>\n",
       "    </tr>\n",
       "    <tr>\n",
       "      <th>4</th>\n",
       "      <td>Auckland</td>\n",
       "      <td>2023-04-15</td>\n",
       "      <td>2024-04-16 11:10:00</td>\n",
       "    </tr>\n",
       "    <tr>\n",
       "      <th>...</th>\n",
       "      <td>...</td>\n",
       "      <td>...</td>\n",
       "      <td>...</td>\n",
       "    </tr>\n",
       "    <tr>\n",
       "      <th>1825</th>\n",
       "      <td>Vancouver</td>\n",
       "      <td>2024-04-06</td>\n",
       "      <td>2024-04-16 13:15:00</td>\n",
       "    </tr>\n",
       "    <tr>\n",
       "      <th>1826</th>\n",
       "      <td>Vancouver</td>\n",
       "      <td>2024-04-07</td>\n",
       "      <td>2024-04-16 13:18:00</td>\n",
       "    </tr>\n",
       "    <tr>\n",
       "      <th>1827</th>\n",
       "      <td>Vancouver</td>\n",
       "      <td>2024-04-08</td>\n",
       "      <td>2024-04-16 13:22:00</td>\n",
       "    </tr>\n",
       "    <tr>\n",
       "      <th>1828</th>\n",
       "      <td>Vancouver</td>\n",
       "      <td>2024-04-09</td>\n",
       "      <td>2024-04-16 13:26:00</td>\n",
       "    </tr>\n",
       "    <tr>\n",
       "      <th>1829</th>\n",
       "      <td>Vancouver</td>\n",
       "      <td>2024-04-10</td>\n",
       "      <td>2024-04-16 13:30:00</td>\n",
       "    </tr>\n",
       "  </tbody>\n",
       "</table>\n",
       "<p>1830 rows × 3 columns</p>\n",
       "</div>"
      ],
      "text/plain": [
       "           city       date            sunlight\n",
       "0      Auckland 2023-04-11 2024-04-16 11:19:00\n",
       "1      Auckland 2023-04-12 2024-04-16 11:17:00\n",
       "2      Auckland 2023-04-13 2024-04-16 11:15:00\n",
       "3      Auckland 2023-04-14 2024-04-16 11:12:00\n",
       "4      Auckland 2023-04-15 2024-04-16 11:10:00\n",
       "...         ...        ...                 ...\n",
       "1825  Vancouver 2024-04-06 2024-04-16 13:15:00\n",
       "1826  Vancouver 2024-04-07 2024-04-16 13:18:00\n",
       "1827  Vancouver 2024-04-08 2024-04-16 13:22:00\n",
       "1828  Vancouver 2024-04-09 2024-04-16 13:26:00\n",
       "1829  Vancouver 2024-04-10 2024-04-16 13:30:00\n",
       "\n",
       "[1830 rows x 3 columns]"
      ]
     },
     "execution_count": 3,
     "metadata": {},
     "output_type": "execute_result"
    }
   ],
   "source": [
    "sunlight_year = pd.read_csv('./data_mart/sunlight_over_year.csv', parse_dates=['date','sunlight'])\n",
    "sunlight_year"
   ]
  },
  {
   "cell_type": "code",
   "execution_count": 4,
   "id": "2181ca18-ada5-47e6-96a5-de815356e038",
   "metadata": {},
   "outputs": [
    {
     "name": "stdout",
     "output_type": "stream",
     "text": [
      "<class 'pandas.core.frame.DataFrame'>\n",
      "RangeIndex: 1830 entries, 0 to 1829\n",
      "Data columns (total 3 columns):\n",
      " #   Column    Non-Null Count  Dtype         \n",
      "---  ------    --------------  -----         \n",
      " 0   city      1830 non-null   object        \n",
      " 1   date      1830 non-null   datetime64[ns]\n",
      " 2   sunlight  1829 non-null   datetime64[ns]\n",
      "dtypes: datetime64[ns](2), object(1)\n",
      "memory usage: 43.0+ KB\n"
     ]
    }
   ],
   "source": [
    "sunlight_year.info()"
   ]
  },
  {
   "cell_type": "markdown",
   "id": "4166deff-55e6-4aaa-ad49-3204bea9bae8",
   "metadata": {},
   "source": [
    "### Separating the data by cities"
   ]
  },
  {
   "cell_type": "code",
   "execution_count": null,
   "id": "7ab63036-e5d4-4c6a-b021-bcb8cb9bd89c",
   "metadata": {},
   "outputs": [],
   "source": [
    "# for future reference = try another way with for loop\n",
    "# for city in sunlight_year['city']\n",
    "        # using nunique"
   ]
  },
  {
   "cell_type": "code",
   "execution_count": 5,
   "id": "59f63806-db9b-420b-a7a8-23cff1c4bcde",
   "metadata": {},
   "outputs": [
    {
     "name": "stderr",
     "output_type": "stream",
     "text": [
      "/var/folders/m1/dk0h8kz11p9g8_szsqwqhdnc0000gn/T/ipykernel_12225/2575600788.py:4: SettingWithCopyWarning: \n",
      "A value is trying to be set on a copy of a slice from a DataFrame\n",
      "\n",
      "See the caveats in the documentation: https://pandas.pydata.org/pandas-docs/stable/user_guide/indexing.html#returning-a-view-versus-a-copy\n",
      "  akl.drop('city', axis=1, inplace=True)\n"
     ]
    }
   ],
   "source": [
    "#separating the data by cities\n",
    "\n",
    "akl = sunlight_year[sunlight_year['city']=='Auckland']\n",
    "akl.drop('city', axis=1, inplace=True)"
   ]
  },
  {
   "cell_type": "code",
   "execution_count": 6,
   "id": "f124f688-f107-4eef-ad85-4778c7d0bf92",
   "metadata": {},
   "outputs": [
    {
     "data": {
      "text/html": [
       "<div>\n",
       "<style scoped>\n",
       "    .dataframe tbody tr th:only-of-type {\n",
       "        vertical-align: middle;\n",
       "    }\n",
       "\n",
       "    .dataframe tbody tr th {\n",
       "        vertical-align: top;\n",
       "    }\n",
       "\n",
       "    .dataframe thead th {\n",
       "        text-align: right;\n",
       "    }\n",
       "</style>\n",
       "<table border=\"1\" class=\"dataframe\">\n",
       "  <thead>\n",
       "    <tr style=\"text-align: right;\">\n",
       "      <th></th>\n",
       "      <th>date</th>\n",
       "      <th>sunlight</th>\n",
       "    </tr>\n",
       "  </thead>\n",
       "  <tbody>\n",
       "    <tr>\n",
       "      <th>0</th>\n",
       "      <td>2023-04-11</td>\n",
       "      <td>2024-04-16 11:19:00</td>\n",
       "    </tr>\n",
       "    <tr>\n",
       "      <th>1</th>\n",
       "      <td>2023-04-12</td>\n",
       "      <td>2024-04-16 11:17:00</td>\n",
       "    </tr>\n",
       "    <tr>\n",
       "      <th>2</th>\n",
       "      <td>2023-04-13</td>\n",
       "      <td>2024-04-16 11:15:00</td>\n",
       "    </tr>\n",
       "    <tr>\n",
       "      <th>3</th>\n",
       "      <td>2023-04-14</td>\n",
       "      <td>2024-04-16 11:12:00</td>\n",
       "    </tr>\n",
       "    <tr>\n",
       "      <th>4</th>\n",
       "      <td>2023-04-15</td>\n",
       "      <td>2024-04-16 11:10:00</td>\n",
       "    </tr>\n",
       "    <tr>\n",
       "      <th>...</th>\n",
       "      <td>...</td>\n",
       "      <td>...</td>\n",
       "    </tr>\n",
       "    <tr>\n",
       "      <th>361</th>\n",
       "      <td>2024-04-06</td>\n",
       "      <td>2024-04-16 11:29:00</td>\n",
       "    </tr>\n",
       "    <tr>\n",
       "      <th>362</th>\n",
       "      <td>2024-04-07</td>\n",
       "      <td>2024-04-16 11:26:00</td>\n",
       "    </tr>\n",
       "    <tr>\n",
       "      <th>363</th>\n",
       "      <td>2024-04-08</td>\n",
       "      <td>2024-04-16 11:24:00</td>\n",
       "    </tr>\n",
       "    <tr>\n",
       "      <th>364</th>\n",
       "      <td>2024-04-09</td>\n",
       "      <td>2024-04-16 11:22:00</td>\n",
       "    </tr>\n",
       "    <tr>\n",
       "      <th>365</th>\n",
       "      <td>2024-04-10</td>\n",
       "      <td>2024-04-16 11:20:00</td>\n",
       "    </tr>\n",
       "  </tbody>\n",
       "</table>\n",
       "<p>366 rows × 2 columns</p>\n",
       "</div>"
      ],
      "text/plain": [
       "          date            sunlight\n",
       "0   2023-04-11 2024-04-16 11:19:00\n",
       "1   2023-04-12 2024-04-16 11:17:00\n",
       "2   2023-04-13 2024-04-16 11:15:00\n",
       "3   2023-04-14 2024-04-16 11:12:00\n",
       "4   2023-04-15 2024-04-16 11:10:00\n",
       "..         ...                 ...\n",
       "361 2024-04-06 2024-04-16 11:29:00\n",
       "362 2024-04-07 2024-04-16 11:26:00\n",
       "363 2024-04-08 2024-04-16 11:24:00\n",
       "364 2024-04-09 2024-04-16 11:22:00\n",
       "365 2024-04-10 2024-04-16 11:20:00\n",
       "\n",
       "[366 rows x 2 columns]"
      ]
     },
     "execution_count": 6,
     "metadata": {},
     "output_type": "execute_result"
    }
   ],
   "source": [
    "akl"
   ]
  },
  {
   "cell_type": "markdown",
   "id": "4e67ee24-0f13-466b-831b-c8a0c8c67ef4",
   "metadata": {},
   "source": [
    "### Renaming each column for each city"
   ]
  },
  {
   "cell_type": "code",
   "execution_count": 7,
   "id": "d036ac5b-5a57-4f8f-9860-8458debfe660",
   "metadata": {},
   "outputs": [],
   "source": [
    "be = sunlight_year[sunlight_year['city']=='Berlin']\n",
    "van = sunlight_year[sunlight_year['city']=='Vancouver']\n",
    "rvk = sunlight_year[sunlight_year['city']=='Reykjavik']\n",
    "btz = sunlight_year[sunlight_year['city']=='Biarritz']"
   ]
  },
  {
   "cell_type": "code",
   "execution_count": 8,
   "id": "da4270f5-041d-4da4-9fcc-f061e1528f59",
   "metadata": {},
   "outputs": [
    {
     "name": "stderr",
     "output_type": "stream",
     "text": [
      "/var/folders/m1/dk0h8kz11p9g8_szsqwqhdnc0000gn/T/ipykernel_12225/3202229302.py:1: SettingWithCopyWarning: \n",
      "A value is trying to be set on a copy of a slice from a DataFrame\n",
      "\n",
      "See the caveats in the documentation: https://pandas.pydata.org/pandas-docs/stable/user_guide/indexing.html#returning-a-view-versus-a-copy\n",
      "  be.drop('city', axis=1, inplace=True)\n",
      "/var/folders/m1/dk0h8kz11p9g8_szsqwqhdnc0000gn/T/ipykernel_12225/3202229302.py:2: SettingWithCopyWarning: \n",
      "A value is trying to be set on a copy of a slice from a DataFrame\n",
      "\n",
      "See the caveats in the documentation: https://pandas.pydata.org/pandas-docs/stable/user_guide/indexing.html#returning-a-view-versus-a-copy\n",
      "  van.drop('city', axis=1, inplace=True)\n",
      "/var/folders/m1/dk0h8kz11p9g8_szsqwqhdnc0000gn/T/ipykernel_12225/3202229302.py:3: SettingWithCopyWarning: \n",
      "A value is trying to be set on a copy of a slice from a DataFrame\n",
      "\n",
      "See the caveats in the documentation: https://pandas.pydata.org/pandas-docs/stable/user_guide/indexing.html#returning-a-view-versus-a-copy\n",
      "  rvk.drop('city', axis=1, inplace=True)\n",
      "/var/folders/m1/dk0h8kz11p9g8_szsqwqhdnc0000gn/T/ipykernel_12225/3202229302.py:4: SettingWithCopyWarning: \n",
      "A value is trying to be set on a copy of a slice from a DataFrame\n",
      "\n",
      "See the caveats in the documentation: https://pandas.pydata.org/pandas-docs/stable/user_guide/indexing.html#returning-a-view-versus-a-copy\n",
      "  btz.drop('city', axis=1, inplace=True)\n"
     ]
    }
   ],
   "source": [
    "be.drop('city', axis=1, inplace=True)\n",
    "van.drop('city', axis=1, inplace=True)\n",
    "rvk.drop('city', axis=1, inplace=True)\n",
    "btz.drop('city', axis=1, inplace=True)"
   ]
  },
  {
   "cell_type": "code",
   "execution_count": 9,
   "id": "38125bca-b55a-4adc-be11-3e3a07d4d02b",
   "metadata": {},
   "outputs": [],
   "source": [
    "akl.columns = ['date','Auckland']\n",
    "be.columns = ['date','Berlin']\n",
    "van.columns = ['date','Vancouver']\n",
    "rvk.columns = ['date','Reykjavik']\n",
    "btz.columns = ['date','Biarritz']"
   ]
  },
  {
   "cell_type": "markdown",
   "id": "f65df58a-a28b-4a7a-b7a8-d45635027e7b",
   "metadata": {},
   "source": [
    "### Merging all the dataframes"
   ]
  },
  {
   "cell_type": "code",
   "execution_count": 10,
   "id": "939a9450-1b4f-49a4-8290-db25d25629b9",
   "metadata": {},
   "outputs": [],
   "source": [
    "m1 = akl.merge(be, how='right', on='date')\n",
    "m2 = m1.merge(van, how='right', on='date')\n",
    "m3 = m2.merge(rvk, how='right', on='date')\n",
    "sunlight = m3.merge(btz, how='right', on='date')"
   ]
  },
  {
   "cell_type": "code",
   "execution_count": 11,
   "id": "df4e177e-f64f-4721-99d8-aa5f78038b81",
   "metadata": {},
   "outputs": [
    {
     "data": {
      "text/html": [
       "<div>\n",
       "<style scoped>\n",
       "    .dataframe tbody tr th:only-of-type {\n",
       "        vertical-align: middle;\n",
       "    }\n",
       "\n",
       "    .dataframe tbody tr th {\n",
       "        vertical-align: top;\n",
       "    }\n",
       "\n",
       "    .dataframe thead th {\n",
       "        text-align: right;\n",
       "    }\n",
       "</style>\n",
       "<table border=\"1\" class=\"dataframe\">\n",
       "  <thead>\n",
       "    <tr style=\"text-align: right;\">\n",
       "      <th></th>\n",
       "      <th>date</th>\n",
       "      <th>Auckland</th>\n",
       "      <th>Berlin</th>\n",
       "      <th>Vancouver</th>\n",
       "      <th>Reykjavik</th>\n",
       "      <th>Biarritz</th>\n",
       "    </tr>\n",
       "  </thead>\n",
       "  <tbody>\n",
       "    <tr>\n",
       "      <th>0</th>\n",
       "      <td>2023-04-11</td>\n",
       "      <td>2024-04-16 11:19:00</td>\n",
       "      <td>2024-04-16 13:40:00</td>\n",
       "      <td>2024-04-16 13:30:00</td>\n",
       "      <td>2024-04-16 14:37:00</td>\n",
       "      <td>2024-04-16 13:12:00</td>\n",
       "    </tr>\n",
       "    <tr>\n",
       "      <th>1</th>\n",
       "      <td>2023-04-12</td>\n",
       "      <td>2024-04-16 11:17:00</td>\n",
       "      <td>2024-04-16 13:43:00</td>\n",
       "      <td>2024-04-16 13:34:00</td>\n",
       "      <td>2024-04-16 14:44:00</td>\n",
       "      <td>2024-04-16 13:15:00</td>\n",
       "    </tr>\n",
       "    <tr>\n",
       "      <th>2</th>\n",
       "      <td>2023-04-13</td>\n",
       "      <td>2024-04-16 11:15:00</td>\n",
       "      <td>2024-04-16 13:47:00</td>\n",
       "      <td>2024-04-16 13:37:00</td>\n",
       "      <td>2024-04-16 14:51:00</td>\n",
       "      <td>2024-04-16 13:19:00</td>\n",
       "    </tr>\n",
       "    <tr>\n",
       "      <th>3</th>\n",
       "      <td>2023-04-14</td>\n",
       "      <td>2024-04-16 11:12:00</td>\n",
       "      <td>2024-04-16 13:51:00</td>\n",
       "      <td>2024-04-16 13:40:00</td>\n",
       "      <td>2024-04-16 14:57:00</td>\n",
       "      <td>2024-04-16 13:22:00</td>\n",
       "    </tr>\n",
       "    <tr>\n",
       "      <th>4</th>\n",
       "      <td>2023-04-15</td>\n",
       "      <td>2024-04-16 11:10:00</td>\n",
       "      <td>2024-04-16 13:56:00</td>\n",
       "      <td>2024-04-16 13:44:00</td>\n",
       "      <td>2024-04-16 15:04:00</td>\n",
       "      <td>2024-04-16 13:24:00</td>\n",
       "    </tr>\n",
       "    <tr>\n",
       "      <th>...</th>\n",
       "      <td>...</td>\n",
       "      <td>...</td>\n",
       "      <td>...</td>\n",
       "      <td>...</td>\n",
       "      <td>...</td>\n",
       "      <td>...</td>\n",
       "    </tr>\n",
       "    <tr>\n",
       "      <th>361</th>\n",
       "      <td>2024-04-06</td>\n",
       "      <td>2024-04-16 11:29:00</td>\n",
       "      <td>2024-04-16 13:22:00</td>\n",
       "      <td>2024-04-16 13:15:00</td>\n",
       "      <td>2024-04-16 14:09:00</td>\n",
       "      <td>2024-04-16 13:00:00</td>\n",
       "    </tr>\n",
       "    <tr>\n",
       "      <th>362</th>\n",
       "      <td>2024-04-07</td>\n",
       "      <td>2024-04-16 11:26:00</td>\n",
       "      <td>2024-04-16 13:26:00</td>\n",
       "      <td>2024-04-16 13:18:00</td>\n",
       "      <td>2024-04-16 14:16:00</td>\n",
       "      <td>2024-04-16 13:03:00</td>\n",
       "    </tr>\n",
       "    <tr>\n",
       "      <th>363</th>\n",
       "      <td>2024-04-08</td>\n",
       "      <td>2024-04-16 11:24:00</td>\n",
       "      <td>2024-04-16 13:31:00</td>\n",
       "      <td>2024-04-16 13:22:00</td>\n",
       "      <td>2024-04-16 14:23:00</td>\n",
       "      <td>2024-04-16 13:07:00</td>\n",
       "    </tr>\n",
       "    <tr>\n",
       "      <th>364</th>\n",
       "      <td>2024-04-09</td>\n",
       "      <td>2024-04-16 11:22:00</td>\n",
       "      <td>2024-04-16 13:35:00</td>\n",
       "      <td>2024-04-16 13:26:00</td>\n",
       "      <td>2024-04-16 14:30:00</td>\n",
       "      <td>2024-04-16 13:09:00</td>\n",
       "    </tr>\n",
       "    <tr>\n",
       "      <th>365</th>\n",
       "      <td>2024-04-10</td>\n",
       "      <td>2024-04-16 11:20:00</td>\n",
       "      <td>2024-04-16 13:38:00</td>\n",
       "      <td>2024-04-16 13:30:00</td>\n",
       "      <td>2024-04-16 14:36:00</td>\n",
       "      <td>2024-04-16 13:12:00</td>\n",
       "    </tr>\n",
       "  </tbody>\n",
       "</table>\n",
       "<p>366 rows × 6 columns</p>\n",
       "</div>"
      ],
      "text/plain": [
       "          date            Auckland              Berlin           Vancouver  \\\n",
       "0   2023-04-11 2024-04-16 11:19:00 2024-04-16 13:40:00 2024-04-16 13:30:00   \n",
       "1   2023-04-12 2024-04-16 11:17:00 2024-04-16 13:43:00 2024-04-16 13:34:00   \n",
       "2   2023-04-13 2024-04-16 11:15:00 2024-04-16 13:47:00 2024-04-16 13:37:00   \n",
       "3   2023-04-14 2024-04-16 11:12:00 2024-04-16 13:51:00 2024-04-16 13:40:00   \n",
       "4   2023-04-15 2024-04-16 11:10:00 2024-04-16 13:56:00 2024-04-16 13:44:00   \n",
       "..         ...                 ...                 ...                 ...   \n",
       "361 2024-04-06 2024-04-16 11:29:00 2024-04-16 13:22:00 2024-04-16 13:15:00   \n",
       "362 2024-04-07 2024-04-16 11:26:00 2024-04-16 13:26:00 2024-04-16 13:18:00   \n",
       "363 2024-04-08 2024-04-16 11:24:00 2024-04-16 13:31:00 2024-04-16 13:22:00   \n",
       "364 2024-04-09 2024-04-16 11:22:00 2024-04-16 13:35:00 2024-04-16 13:26:00   \n",
       "365 2024-04-10 2024-04-16 11:20:00 2024-04-16 13:38:00 2024-04-16 13:30:00   \n",
       "\n",
       "              Reykjavik            Biarritz  \n",
       "0   2024-04-16 14:37:00 2024-04-16 13:12:00  \n",
       "1   2024-04-16 14:44:00 2024-04-16 13:15:00  \n",
       "2   2024-04-16 14:51:00 2024-04-16 13:19:00  \n",
       "3   2024-04-16 14:57:00 2024-04-16 13:22:00  \n",
       "4   2024-04-16 15:04:00 2024-04-16 13:24:00  \n",
       "..                  ...                 ...  \n",
       "361 2024-04-16 14:09:00 2024-04-16 13:00:00  \n",
       "362 2024-04-16 14:16:00 2024-04-16 13:03:00  \n",
       "363 2024-04-16 14:23:00 2024-04-16 13:07:00  \n",
       "364 2024-04-16 14:30:00 2024-04-16 13:09:00  \n",
       "365 2024-04-16 14:36:00 2024-04-16 13:12:00  \n",
       "\n",
       "[366 rows x 6 columns]"
      ]
     },
     "execution_count": 11,
     "metadata": {},
     "output_type": "execute_result"
    }
   ],
   "source": [
    "sunlight"
   ]
  },
  {
   "cell_type": "markdown",
   "id": "c76dd465-56c3-469e-9f33-4f2708c2e079",
   "metadata": {},
   "source": [
    "### Lineplot from April 2023 to April 2024"
   ]
  },
  {
   "cell_type": "code",
   "execution_count": 12,
   "id": "6a57da8a-e4c3-439e-901a-f607b059338b",
   "metadata": {},
   "outputs": [],
   "source": [
    "sunlight['Auckland'] = pd.to_datetime(sunlight.Auckland)"
   ]
  },
  {
   "cell_type": "code",
   "execution_count": 13,
   "id": "9afe3981-41cd-4f3f-b420-b63d820b9c49",
   "metadata": {},
   "outputs": [
    {
     "data": {
      "image/png": "[encoded data removed]",
      "text/plain": [
       "<Figure size 1200x500 with 1 Axes>"
      ]
     },
     "metadata": {},
     "output_type": "display_data"
    }
   ],
   "source": [
    "plt.figure(figsize=(12,5)) \n",
    "\n",
    "sns.lineplot(x='date', y='Auckland', data = sunlight, label='Auckland')\n",
    "sns.lineplot(x='date', y='Biarritz', data = sunlight, label='Biarritz')\n",
    "sns.lineplot(x='date', y='Reykjavik', data = sunlight, label='Reykjavik')\n",
    "sns.lineplot(x='date', y='Berlin', data = sunlight, label='Berlin')\n",
    "sns.lineplot(x='date', y='Vancouver', data = sunlight, label='Vancouver')\n",
    "plt.ylabel('Sunlight')\n",
    "plt.yticks([])\n",
    "\n",
    "plt.legend();"
   ]
  },
  {
   "cell_type": "code",
   "execution_count": null,
   "id": "470fb1c6-f751-4b0d-a991-ccb995f78a86",
   "metadata": {},
   "outputs": [],
   "source": []
  }
 ],
 "metadata": {
  "kernelspec": {
   "display_name": "Python 3 (ipykernel)",
   "language": "python",
   "name": "python3"
  },
  "language_info": {
   "codemirror_mode": {
    "name": "ipython",
    "version": 3
   },
   "file_extension": ".py",
   "mimetype": "text/x-python",
   "name": "python",
   "nbconvert_exporter": "python",
   "pygments_lexer": "ipython3",
   "version": "3.11.5"
  }
 },
 "nbformat": 4,
 "nbformat_minor": 5
}
