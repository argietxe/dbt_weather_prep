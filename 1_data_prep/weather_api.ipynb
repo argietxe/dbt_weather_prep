{
 "cells": [
  {
   "cell_type": "code",
   "execution_count": 1,
   "id": "c2144c73-72ce-4023-ac65-828a86c891de",
   "metadata": {},
   "outputs": [],
   "source": [
    "# for the api key\n",
    "import os\n",
    "from dotenv import load_dotenv\n",
    "load_dotenv()\n",
    "api_key = os.getenv('WEATHER_API')"
   ]
  },
  {
   "cell_type": "code",
   "execution_count": 32,
   "id": "0cb89785-6532-407f-934c-d853a804a17b",
   "metadata": {},
   "outputs": [],
   "source": [
    "# for call api url\n",
    "import json\n",
    "import requests\n",
    "import pprint # https://docs.python.org/3/library/pprint.html\n",
    "import pandas as pd\n",
    "import datetime"
   ]
  },
  {
   "cell_type": "markdown",
   "id": "482a0912-5c55-4b6a-bf3e-77c80c2e88ee",
   "metadata": {},
   "source": [
    "## Calling data from Weather API"
   ]
  },
  {
   "cell_type": "code",
   "execution_count": 4,
   "id": "3e04bc4e-de36-41e5-ab1b-7dc7fa07affa",
   "metadata": {},
   "outputs": [],
   "source": [
    "# Setting the list of locations\n",
    "\n",
    "locations = ['Berlin','Reykjavik','Biarritz','Auckland','Vancouver']"
   ]
  },
  {
   "cell_type": "code",
   "execution_count": 8,
   "id": "1c250875-303d-4629-a0b2-c633501aa29c",
   "metadata": {},
   "outputs": [
    {
     "name": "stdout",
     "output_type": "stream",
     "text": [
      "['Berlin', 'Reykjavik', 'Biarritz', 'Auckland', 'Vancouver'] 2023-09-10\n",
      "['Berlin', 'Reykjavik', 'Biarritz', 'Auckland', 'Vancouver'] 2023-09-11\n",
      "['Berlin', 'Reykjavik', 'Biarritz', 'Auckland', 'Vancouver'] 2023-09-12\n",
      "['Berlin', 'Reykjavik', 'Biarritz', 'Auckland', 'Vancouver'] 2023-09-13\n",
      "['Berlin', 'Reykjavik', 'Biarritz', 'Auckland', 'Vancouver'] 2023-09-10\n",
      "['Berlin', 'Reykjavik', 'Biarritz', 'Auckland', 'Vancouver'] 2023-09-11\n",
      "['Berlin', 'Reykjavik', 'Biarritz', 'Auckland', 'Vancouver'] 2023-09-12\n",
      "['Berlin', 'Reykjavik', 'Biarritz', 'Auckland', 'Vancouver'] 2023-09-13\n",
      "['Berlin', 'Reykjavik', 'Biarritz', 'Auckland', 'Vancouver'] 2023-09-10\n",
      "['Berlin', 'Reykjavik', 'Biarritz', 'Auckland', 'Vancouver'] 2023-09-11\n",
      "['Berlin', 'Reykjavik', 'Biarritz', 'Auckland', 'Vancouver'] 2023-09-12\n",
      "['Berlin', 'Reykjavik', 'Biarritz', 'Auckland', 'Vancouver'] 2023-09-13\n",
      "['Berlin', 'Reykjavik', 'Biarritz', 'Auckland', 'Vancouver'] 2023-09-10\n",
      "['Berlin', 'Reykjavik', 'Biarritz', 'Auckland', 'Vancouver'] 2023-09-11\n",
      "['Berlin', 'Reykjavik', 'Biarritz', 'Auckland', 'Vancouver'] 2023-09-12\n",
      "['Berlin', 'Reykjavik', 'Biarritz', 'Auckland', 'Vancouver'] 2023-09-13\n",
      "['Berlin', 'Reykjavik', 'Biarritz', 'Auckland', 'Vancouver'] 2023-09-10\n",
      "['Berlin', 'Reykjavik', 'Biarritz', 'Auckland', 'Vancouver'] 2023-09-11\n",
      "['Berlin', 'Reykjavik', 'Biarritz', 'Auckland', 'Vancouver'] 2023-09-12\n",
      "['Berlin', 'Reykjavik', 'Biarritz', 'Auckland', 'Vancouver'] 2023-09-13\n"
     ]
    }
   ],
   "source": [
    " for city in locations:\n",
    "     for day in pd.date_range(start='09/10/2023', end='09/13/2023'):\n",
    "         requested_day = day.date()\n",
    "         print(locations, requested_day) # check the values passed to the variables"
   ]
  },
  {
   "cell_type": "code",
   "execution_count": 9,
   "id": "fc686ff3-657f-4e25-b1e7-5e196736fc90",
   "metadata": {},
   "outputs": [
    {
     "name": "stdout",
     "output_type": "stream",
     "text": [
      "['Berlin', 'Reykjavik', 'Biarritz', 'Auckland', 'Vancouver'] 2023-09-13\n"
     ]
    }
   ],
   "source": [
    "print(locations, requested_day) # check the values passed to the variables"
   ]
  },
  {
   "cell_type": "code",
   "execution_count": 10,
   "id": "f1a5c016-8a0c-4bd5-b108-55577f74cacb",
   "metadata": {},
   "outputs": [
    {
     "data": {
      "text/plain": [
       "'Vancouver'"
      ]
     },
     "execution_count": 10,
     "metadata": {},
     "output_type": "execute_result"
    }
   ],
   "source": [
    "city"
   ]
  },
  {
   "cell_type": "code",
   "execution_count": 5,
   "id": "d1d69e90-0892-4233-8374-3b9ec6ac686b",
   "metadata": {},
   "outputs": [
    {
     "name": "stdout",
     "output_type": "stream",
     "text": [
      "attempt for 2024-04-10 in Vancouver resulted in 200\r"
     ]
    }
   ],
   "source": [
    "# For loop for the small dictionnary for 6 days\n",
    "\n",
    "weather_dict_s = {'extracted_at':[], 'extracted_data':[]}\n",
    "\n",
    "for city in locations:\n",
    "     for day in pd.date_range(start='04/05/2024', end='04/10/2024'):\n",
    "         requested_day = day.date()\n",
    "         api_url = f'http://api.weatherapi.com/v1/history.json?key={api_key}&q={city}&dt={requested_day}'\n",
    "         response = requests.request(\"GET\", api_url)\n",
    "         weather_dict_s['extracted_at'].append(datetime.datetime.now())\n",
    "         weather_dict_s['extracted_data'].append(json.loads(response.text))\n",
    "         if response.status_code == 200:\n",
    "             print(f'attempt for {day.date()} in {city} resulted in {response.status_code}', end='\\r')\n",
    "         else:\n",
    "             print(f'for date: {day.date()} and city: {city} status code {response.status_code} -> research error')\n",
    "\n",
    "             \n",
    "# print(location, requested_day) # check the values passed to the variables"
   ]
  },
  {
   "cell_type": "code",
   "execution_count": 46,
   "id": "78c97374-4ade-44cf-81b9-a457fa82a3f8",
   "metadata": {},
   "outputs": [],
   "source": [
    "# saving a small json \n",
    "with open('./data/weather_dict_s.json', mode='w') as outfile:\n",
    "    json.dump(weather_dict_s, outfile, indent=4, sort_keys=True, default=str)"
   ]
  },
  {
   "cell_type": "code",
   "execution_count": null,
   "id": "285b1df7-c952-493b-ac10-4d413777e366",
   "metadata": {},
   "outputs": [],
   "source": []
  },
  {
   "cell_type": "code",
   "execution_count": 27,
   "id": "837d512c-dfd5-4bcc-9d7a-f843184c0e60",
   "metadata": {},
   "outputs": [
    {
     "name": "stdout",
     "output_type": "stream",
     "text": [
      "attempt for 2024-04-10 in Vancouver resulted in 200\r"
     ]
    }
   ],
   "source": [
    "#for loop for the whole year\n",
    "\n",
    "weather_dict = {'extracted_at':[], 'extracted_data':[]}\n",
    "\n",
    "for city in locations:\n",
    "     for day in pd.date_range(start='04/11/2023', end='04/10/2024'):\n",
    "         requested_day = day.date()\n",
    "         api_url = f'http://api.weatherapi.com/v1/history.json?key={api_key}&q={city}&dt={requested_day}'\n",
    "         response = requests.request(\"GET\", api_url)\n",
    "         weather_dict['extracted_at'].append(datetime.datetime.now())\n",
    "         weather_dict['extracted_data'].append(json.loads(response.text))\n",
    "         if response.status_code == 200:\n",
    "             print(f'attempt for {day.date()} in {city} resulted in {response.status_code}', end='\\r')\n",
    "         else:\n",
    "             print(f'for date: {day.date()} and city: {locations} status code {response.status_code} -> research error')\n",
    "\n",
    "             \n",
    "# print(location, requested_day) # check the values passed to the variables"
   ]
  },
  {
   "cell_type": "code",
   "execution_count": 37,
   "id": "29475631-213d-4cd9-bc6d-1768d3b0e145",
   "metadata": {},
   "outputs": [],
   "source": [
    "#result = response.text\n",
    "#result\n",
    "#result = response.json()     #for it to make it as text form. "
   ]
  },
  {
   "cell_type": "code",
   "execution_count": 45,
   "id": "4715136e-116e-43da-a23a-0030a4255eb0",
   "metadata": {},
   "outputs": [],
   "source": [
    "# saving as json \n",
    "with open('./data/weather_dict.json', mode='w') as outfile:\n",
    "    json.dump(weather_dict, outfile, indent=4, sort_keys=True, default=str)"
   ]
  },
  {
   "cell_type": "markdown",
   "id": "ec7a9799-4ec5-4060-b79c-97809df46cae",
   "metadata": {},
   "source": [
    "## Loading the Dataframe into SQL table"
   ]
  },
  {
   "cell_type": "code",
   "execution_count": 42,
   "id": "7713b7b1-0ea9-45eb-909d-93151ea99169",
   "metadata": {},
   "outputs": [
    {
     "data": {
      "text/html": [
       "<div>\n",
       "<style scoped>\n",
       "    .dataframe tbody tr th:only-of-type {\n",
       "        vertical-align: middle;\n",
       "    }\n",
       "\n",
       "    .dataframe tbody tr th {\n",
       "        vertical-align: top;\n",
       "    }\n",
       "\n",
       "    .dataframe thead th {\n",
       "        text-align: right;\n",
       "    }\n",
       "</style>\n",
       "<table border=\"1\" class=\"dataframe\">\n",
       "  <thead>\n",
       "    <tr style=\"text-align: right;\">\n",
       "      <th></th>\n",
       "      <th>extracted_at</th>\n",
       "      <th>extracted_data</th>\n",
       "    </tr>\n",
       "  </thead>\n",
       "  <tbody>\n",
       "    <tr>\n",
       "      <th>0</th>\n",
       "      <td>2024-04-11 11:17:30.883713</td>\n",
       "      <td>{'location': {'name': 'Berlin', 'region': 'Ber...</td>\n",
       "    </tr>\n",
       "    <tr>\n",
       "      <th>1</th>\n",
       "      <td>2024-04-11 11:17:30.998822</td>\n",
       "      <td>{'location': {'name': 'Berlin', 'region': 'Ber...</td>\n",
       "    </tr>\n",
       "    <tr>\n",
       "      <th>2</th>\n",
       "      <td>2024-04-11 11:17:31.129121</td>\n",
       "      <td>{'location': {'name': 'Berlin', 'region': 'Ber...</td>\n",
       "    </tr>\n",
       "    <tr>\n",
       "      <th>3</th>\n",
       "      <td>2024-04-11 11:17:31.251737</td>\n",
       "      <td>{'location': {'name': 'Berlin', 'region': 'Ber...</td>\n",
       "    </tr>\n",
       "    <tr>\n",
       "      <th>4</th>\n",
       "      <td>2024-04-11 11:17:31.369723</td>\n",
       "      <td>{'location': {'name': 'Berlin', 'region': 'Ber...</td>\n",
       "    </tr>\n",
       "    <tr>\n",
       "      <th>5</th>\n",
       "      <td>2024-04-11 11:17:31.475044</td>\n",
       "      <td>{'location': {'name': 'Berlin', 'region': 'Ber...</td>\n",
       "    </tr>\n",
       "    <tr>\n",
       "      <th>6</th>\n",
       "      <td>2024-04-11 11:17:31.554822</td>\n",
       "      <td>{'location': {'name': 'Reykjavik', 'region': '...</td>\n",
       "    </tr>\n",
       "    <tr>\n",
       "      <th>7</th>\n",
       "      <td>2024-04-11 11:17:31.663854</td>\n",
       "      <td>{'location': {'name': 'Reykjavik', 'region': '...</td>\n",
       "    </tr>\n",
       "    <tr>\n",
       "      <th>8</th>\n",
       "      <td>2024-04-11 11:17:31.761983</td>\n",
       "      <td>{'location': {'name': 'Reykjavik', 'region': '...</td>\n",
       "    </tr>\n",
       "    <tr>\n",
       "      <th>9</th>\n",
       "      <td>2024-04-11 11:17:31.858421</td>\n",
       "      <td>{'location': {'name': 'Reykjavik', 'region': '...</td>\n",
       "    </tr>\n",
       "    <tr>\n",
       "      <th>10</th>\n",
       "      <td>2024-04-11 11:17:31.949056</td>\n",
       "      <td>{'location': {'name': 'Reykjavik', 'region': '...</td>\n",
       "    </tr>\n",
       "    <tr>\n",
       "      <th>11</th>\n",
       "      <td>2024-04-11 11:17:32.047435</td>\n",
       "      <td>{'location': {'name': 'Reykjavik', 'region': '...</td>\n",
       "    </tr>\n",
       "    <tr>\n",
       "      <th>12</th>\n",
       "      <td>2024-04-11 11:17:32.158605</td>\n",
       "      <td>{'location': {'name': 'Biarritz', 'region': 'A...</td>\n",
       "    </tr>\n",
       "    <tr>\n",
       "      <th>13</th>\n",
       "      <td>2024-04-11 11:17:32.253103</td>\n",
       "      <td>{'location': {'name': 'Biarritz', 'region': 'A...</td>\n",
       "    </tr>\n",
       "    <tr>\n",
       "      <th>14</th>\n",
       "      <td>2024-04-11 11:17:32.356419</td>\n",
       "      <td>{'location': {'name': 'Biarritz', 'region': 'A...</td>\n",
       "    </tr>\n",
       "    <tr>\n",
       "      <th>15</th>\n",
       "      <td>2024-04-11 11:17:32.441813</td>\n",
       "      <td>{'location': {'name': 'Biarritz', 'region': 'A...</td>\n",
       "    </tr>\n",
       "    <tr>\n",
       "      <th>16</th>\n",
       "      <td>2024-04-11 11:17:32.551731</td>\n",
       "      <td>{'location': {'name': 'Biarritz', 'region': 'A...</td>\n",
       "    </tr>\n",
       "    <tr>\n",
       "      <th>17</th>\n",
       "      <td>2024-04-11 11:17:32.643204</td>\n",
       "      <td>{'location': {'name': 'Biarritz', 'region': 'A...</td>\n",
       "    </tr>\n",
       "    <tr>\n",
       "      <th>18</th>\n",
       "      <td>2024-04-11 11:17:32.733991</td>\n",
       "      <td>{'location': {'name': 'Auckland', 'region': ''...</td>\n",
       "    </tr>\n",
       "    <tr>\n",
       "      <th>19</th>\n",
       "      <td>2024-04-11 11:17:32.836612</td>\n",
       "      <td>{'location': {'name': 'Auckland', 'region': ''...</td>\n",
       "    </tr>\n",
       "    <tr>\n",
       "      <th>20</th>\n",
       "      <td>2024-04-11 11:17:32.937626</td>\n",
       "      <td>{'location': {'name': 'Auckland', 'region': ''...</td>\n",
       "    </tr>\n",
       "    <tr>\n",
       "      <th>21</th>\n",
       "      <td>2024-04-11 11:17:33.052538</td>\n",
       "      <td>{'location': {'name': 'Auckland', 'region': ''...</td>\n",
       "    </tr>\n",
       "    <tr>\n",
       "      <th>22</th>\n",
       "      <td>2024-04-11 11:17:33.150636</td>\n",
       "      <td>{'location': {'name': 'Auckland', 'region': ''...</td>\n",
       "    </tr>\n",
       "    <tr>\n",
       "      <th>23</th>\n",
       "      <td>2024-04-11 11:17:33.223538</td>\n",
       "      <td>{'location': {'name': 'Auckland', 'region': ''...</td>\n",
       "    </tr>\n",
       "    <tr>\n",
       "      <th>24</th>\n",
       "      <td>2024-04-11 11:17:33.350089</td>\n",
       "      <td>{'location': {'name': 'Vancouver', 'region': '...</td>\n",
       "    </tr>\n",
       "    <tr>\n",
       "      <th>25</th>\n",
       "      <td>2024-04-11 11:17:33.439368</td>\n",
       "      <td>{'location': {'name': 'Vancouver', 'region': '...</td>\n",
       "    </tr>\n",
       "    <tr>\n",
       "      <th>26</th>\n",
       "      <td>2024-04-11 11:17:33.573006</td>\n",
       "      <td>{'location': {'name': 'Vancouver', 'region': '...</td>\n",
       "    </tr>\n",
       "    <tr>\n",
       "      <th>27</th>\n",
       "      <td>2024-04-11 11:17:33.694065</td>\n",
       "      <td>{'location': {'name': 'Vancouver', 'region': '...</td>\n",
       "    </tr>\n",
       "    <tr>\n",
       "      <th>28</th>\n",
       "      <td>2024-04-11 11:17:33.787449</td>\n",
       "      <td>{'location': {'name': 'Vancouver', 'region': '...</td>\n",
       "    </tr>\n",
       "    <tr>\n",
       "      <th>29</th>\n",
       "      <td>2024-04-11 11:17:33.950773</td>\n",
       "      <td>{'location': {'name': 'Vancouver', 'region': '...</td>\n",
       "    </tr>\n",
       "  </tbody>\n",
       "</table>\n",
       "</div>"
      ],
      "text/plain": [
       "                 extracted_at  \\\n",
       "0  2024-04-11 11:17:30.883713   \n",
       "1  2024-04-11 11:17:30.998822   \n",
       "2  2024-04-11 11:17:31.129121   \n",
       "3  2024-04-11 11:17:31.251737   \n",
       "4  2024-04-11 11:17:31.369723   \n",
       "5  2024-04-11 11:17:31.475044   \n",
       "6  2024-04-11 11:17:31.554822   \n",
       "7  2024-04-11 11:17:31.663854   \n",
       "8  2024-04-11 11:17:31.761983   \n",
       "9  2024-04-11 11:17:31.858421   \n",
       "10 2024-04-11 11:17:31.949056   \n",
       "11 2024-04-11 11:17:32.047435   \n",
       "12 2024-04-11 11:17:32.158605   \n",
       "13 2024-04-11 11:17:32.253103   \n",
       "14 2024-04-11 11:17:32.356419   \n",
       "15 2024-04-11 11:17:32.441813   \n",
       "16 2024-04-11 11:17:32.551731   \n",
       "17 2024-04-11 11:17:32.643204   \n",
       "18 2024-04-11 11:17:32.733991   \n",
       "19 2024-04-11 11:17:32.836612   \n",
       "20 2024-04-11 11:17:32.937626   \n",
       "21 2024-04-11 11:17:33.052538   \n",
       "22 2024-04-11 11:17:33.150636   \n",
       "23 2024-04-11 11:17:33.223538   \n",
       "24 2024-04-11 11:17:33.350089   \n",
       "25 2024-04-11 11:17:33.439368   \n",
       "26 2024-04-11 11:17:33.573006   \n",
       "27 2024-04-11 11:17:33.694065   \n",
       "28 2024-04-11 11:17:33.787449   \n",
       "29 2024-04-11 11:17:33.950773   \n",
       "\n",
       "                                       extracted_data  \n",
       "0   {'location': {'name': 'Berlin', 'region': 'Ber...  \n",
       "1   {'location': {'name': 'Berlin', 'region': 'Ber...  \n",
       "2   {'location': {'name': 'Berlin', 'region': 'Ber...  \n",
       "3   {'location': {'name': 'Berlin', 'region': 'Ber...  \n",
       "4   {'location': {'name': 'Berlin', 'region': 'Ber...  \n",
       "5   {'location': {'name': 'Berlin', 'region': 'Ber...  \n",
       "6   {'location': {'name': 'Reykjavik', 'region': '...  \n",
       "7   {'location': {'name': 'Reykjavik', 'region': '...  \n",
       "8   {'location': {'name': 'Reykjavik', 'region': '...  \n",
       "9   {'location': {'name': 'Reykjavik', 'region': '...  \n",
       "10  {'location': {'name': 'Reykjavik', 'region': '...  \n",
       "11  {'location': {'name': 'Reykjavik', 'region': '...  \n",
       "12  {'location': {'name': 'Biarritz', 'region': 'A...  \n",
       "13  {'location': {'name': 'Biarritz', 'region': 'A...  \n",
       "14  {'location': {'name': 'Biarritz', 'region': 'A...  \n",
       "15  {'location': {'name': 'Biarritz', 'region': 'A...  \n",
       "16  {'location': {'name': 'Biarritz', 'region': 'A...  \n",
       "17  {'location': {'name': 'Biarritz', 'region': 'A...  \n",
       "18  {'location': {'name': 'Auckland', 'region': ''...  \n",
       "19  {'location': {'name': 'Auckland', 'region': ''...  \n",
       "20  {'location': {'name': 'Auckland', 'region': ''...  \n",
       "21  {'location': {'name': 'Auckland', 'region': ''...  \n",
       "22  {'location': {'name': 'Auckland', 'region': ''...  \n",
       "23  {'location': {'name': 'Auckland', 'region': ''...  \n",
       "24  {'location': {'name': 'Vancouver', 'region': '...  \n",
       "25  {'location': {'name': 'Vancouver', 'region': '...  \n",
       "26  {'location': {'name': 'Vancouver', 'region': '...  \n",
       "27  {'location': {'name': 'Vancouver', 'region': '...  \n",
       "28  {'location': {'name': 'Vancouver', 'region': '...  \n",
       "29  {'location': {'name': 'Vancouver', 'region': '...  "
      ]
     },
     "execution_count": 42,
     "metadata": {},
     "output_type": "execute_result"
    }
   ],
   "source": [
    "# 5 days dictionnary to dataframe\n",
    "\n",
    "weather_dict_s = pd.DataFrame(weather_dict_s)\n",
    "weather_dict_s"
   ]
  },
  {
   "cell_type": "code",
   "execution_count": 43,
   "id": "e873c822-3312-422f-8bb9-ee860ea79c1f",
   "metadata": {},
   "outputs": [
    {
     "data": {
      "text/html": [
       "<div>\n",
       "<style scoped>\n",
       "    .dataframe tbody tr th:only-of-type {\n",
       "        vertical-align: middle;\n",
       "    }\n",
       "\n",
       "    .dataframe tbody tr th {\n",
       "        vertical-align: top;\n",
       "    }\n",
       "\n",
       "    .dataframe thead th {\n",
       "        text-align: right;\n",
       "    }\n",
       "</style>\n",
       "<table border=\"1\" class=\"dataframe\">\n",
       "  <thead>\n",
       "    <tr style=\"text-align: right;\">\n",
       "      <th></th>\n",
       "      <th>extracted_at</th>\n",
       "      <th>extracted_data</th>\n",
       "    </tr>\n",
       "  </thead>\n",
       "  <tbody>\n",
       "    <tr>\n",
       "      <th>0</th>\n",
       "      <td>2024-04-11 14:13:08.092116</td>\n",
       "      <td>{'location': {'name': 'Berlin', 'region': 'Ber...</td>\n",
       "    </tr>\n",
       "    <tr>\n",
       "      <th>1</th>\n",
       "      <td>2024-04-11 14:13:08.197215</td>\n",
       "      <td>{'location': {'name': 'Berlin', 'region': 'Ber...</td>\n",
       "    </tr>\n",
       "    <tr>\n",
       "      <th>2</th>\n",
       "      <td>2024-04-11 14:13:08.369569</td>\n",
       "      <td>{'location': {'name': 'Berlin', 'region': 'Ber...</td>\n",
       "    </tr>\n",
       "    <tr>\n",
       "      <th>3</th>\n",
       "      <td>2024-04-11 14:13:08.484850</td>\n",
       "      <td>{'location': {'name': 'Berlin', 'region': 'Ber...</td>\n",
       "    </tr>\n",
       "    <tr>\n",
       "      <th>4</th>\n",
       "      <td>2024-04-11 14:13:08.584746</td>\n",
       "      <td>{'location': {'name': 'Berlin', 'region': 'Ber...</td>\n",
       "    </tr>\n",
       "    <tr>\n",
       "      <th>...</th>\n",
       "      <td>...</td>\n",
       "      <td>...</td>\n",
       "    </tr>\n",
       "    <tr>\n",
       "      <th>1825</th>\n",
       "      <td>2024-04-11 14:16:37.362432</td>\n",
       "      <td>{'location': {'name': 'Vancouver', 'region': '...</td>\n",
       "    </tr>\n",
       "    <tr>\n",
       "      <th>1826</th>\n",
       "      <td>2024-04-11 14:16:37.472337</td>\n",
       "      <td>{'location': {'name': 'Vancouver', 'region': '...</td>\n",
       "    </tr>\n",
       "    <tr>\n",
       "      <th>1827</th>\n",
       "      <td>2024-04-11 14:16:37.577198</td>\n",
       "      <td>{'location': {'name': 'Vancouver', 'region': '...</td>\n",
       "    </tr>\n",
       "    <tr>\n",
       "      <th>1828</th>\n",
       "      <td>2024-04-11 14:16:37.673093</td>\n",
       "      <td>{'location': {'name': 'Vancouver', 'region': '...</td>\n",
       "    </tr>\n",
       "    <tr>\n",
       "      <th>1829</th>\n",
       "      <td>2024-04-11 14:16:37.773490</td>\n",
       "      <td>{'location': {'name': 'Vancouver', 'region': '...</td>\n",
       "    </tr>\n",
       "  </tbody>\n",
       "</table>\n",
       "<p>1830 rows × 2 columns</p>\n",
       "</div>"
      ],
      "text/plain": [
       "                   extracted_at  \\\n",
       "0    2024-04-11 14:13:08.092116   \n",
       "1    2024-04-11 14:13:08.197215   \n",
       "2    2024-04-11 14:13:08.369569   \n",
       "3    2024-04-11 14:13:08.484850   \n",
       "4    2024-04-11 14:13:08.584746   \n",
       "...                         ...   \n",
       "1825 2024-04-11 14:16:37.362432   \n",
       "1826 2024-04-11 14:16:37.472337   \n",
       "1827 2024-04-11 14:16:37.577198   \n",
       "1828 2024-04-11 14:16:37.673093   \n",
       "1829 2024-04-11 14:16:37.773490   \n",
       "\n",
       "                                         extracted_data  \n",
       "0     {'location': {'name': 'Berlin', 'region': 'Ber...  \n",
       "1     {'location': {'name': 'Berlin', 'region': 'Ber...  \n",
       "2     {'location': {'name': 'Berlin', 'region': 'Ber...  \n",
       "3     {'location': {'name': 'Berlin', 'region': 'Ber...  \n",
       "4     {'location': {'name': 'Berlin', 'region': 'Ber...  \n",
       "...                                                 ...  \n",
       "1825  {'location': {'name': 'Vancouver', 'region': '...  \n",
       "1826  {'location': {'name': 'Vancouver', 'region': '...  \n",
       "1827  {'location': {'name': 'Vancouver', 'region': '...  \n",
       "1828  {'location': {'name': 'Vancouver', 'region': '...  \n",
       "1829  {'location': {'name': 'Vancouver', 'region': '...  \n",
       "\n",
       "[1830 rows x 2 columns]"
      ]
     },
     "execution_count": 43,
     "metadata": {},
     "output_type": "execute_result"
    }
   ],
   "source": [
    "# year dictionnary to dataframe\n",
    "\n",
    "weather_dict = pd.DataFrame(weather_dict)\n",
    "weather_dict"
   ]
  },
  {
   "cell_type": "code",
   "execution_count": 19,
   "id": "a57e02c3-7566-4ef9-8710-9daf96449541",
   "metadata": {},
   "outputs": [],
   "source": [
    "dtype_dict = {'extracted_at':types.DateTime, 'extracted_data':postgres_json}"
   ]
  },
  {
   "cell_type": "code",
   "execution_count": 44,
   "id": "d095fdc9-2ae2-4507-82aa-f1ffc0dd54fc",
   "metadata": {},
   "outputs": [],
   "source": [
    "# setting up the engine and connection to postgresl\n",
    "\n",
    "from sqlalchemy import create_engine, types\n",
    "\n",
    "url = f'postgresql://{username}:{password}@{host}:{port}/{database}'\n",
    "engine = create_engine(url)"
   ]
  },
  {
   "cell_type": "code",
   "execution_count": 25,
   "id": "64189c5b-fae9-41b6-b53a-cff8cc63f2e0",
   "metadata": {},
   "outputs": [
    {
     "data": {
      "text/plain": [
       "30"
      ]
     },
     "execution_count": 25,
     "metadata": {},
     "output_type": "execute_result"
    }
   ],
   "source": [
    "# 5 days dictionary to sql\n",
    "\n",
    "weather_dict_s.to_sql('weather_raw', engine, if_exists='replace', dtype=dtype_dict)"
   ]
  },
  {
   "cell_type": "code",
   "execution_count": 36,
   "id": "a92f905a-18f3-4866-bd84-3e8458c4c8e2",
   "metadata": {},
   "outputs": [
    {
     "data": {
      "text/plain": [
       "830"
      ]
     },
     "execution_count": 36,
     "metadata": {},
     "output_type": "execute_result"
    }
   ],
   "source": [
    "# year dictionary to sql\n",
    "\n",
    "weather_dict.to_sql('weather_raw_year', engine, if_exists='replace', dtype=dtype_dict)"
   ]
  },
  {
   "cell_type": "code",
   "execution_count": null,
   "id": "0dad1cf2-be34-43e0-b3df-9fcf88c533a3",
   "metadata": {},
   "outputs": [],
   "source": []
  }
 ],
 "metadata": {
  "kernelspec": {
   "display_name": "Python 3 (ipykernel)",
   "language": "python",
   "name": "python3"
  },
  "language_info": {
   "codemirror_mode": {
    "name": "ipython",
    "version": 3
   },
   "file_extension": ".py",
   "mimetype": "text/x-python",
   "name": "python",
   "nbconvert_exporter": "python",
   "pygments_lexer": "ipython3",
   "version": "3.11.5"
  }
 },
 "nbformat": 4,
 "nbformat_minor": 5
}
